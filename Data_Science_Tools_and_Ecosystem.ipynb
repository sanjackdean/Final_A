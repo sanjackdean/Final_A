{
 "cells": [
  {
   "cell_type": "markdown",
   "id": "50d8b71d-3e22-417b-85bf-861a4688e834",
   "metadata": {
    "tags": []
   },
   "source": [
    "# Data Science Tools and Ecosystem"
   ]
  },
  {
   "cell_type": "markdown",
   "id": "0c748ff0-e264-40bd-9c28-f00f27f8d206",
   "metadata": {},
   "source": [
    "## Introduction"
   ]
  },
  {
   "cell_type": "markdown",
   "id": "6d8bdb7d-68ee-4f74-9d20-652d74daa4f8",
   "metadata": {
    "tags": []
   },
   "source": [
    "In this notebook, Data Science Tools and Ecosystem are summarized."
   ]
  },
  {
   "cell_type": "markdown",
   "id": "2be4e9c9-bfd4-420c-ba72-91be7b936bd2",
   "metadata": {},
   "source": [
    "### Objectives:"
   ]
  },
  {
   "cell_type": "markdown",
   "id": "ba1701ad-a4cb-4d3f-93a6-08714b57b0b9",
   "metadata": {},
   "source": [
    "Some of the popular languages that Data Scientists use are:"
   ]
  },
  {
   "cell_type": "markdown",
   "id": "297b6fa4-6c20-4a48-813d-b246b8543d22",
   "metadata": {},
   "source": [
    "1. Python.\n",
    "2. SQL.\n",
    "3. R.\n",
    "4. Julia.\n",
    "5. Java.\n",
    "6. C & C++.\n",
    "7. Scala\n",
    "8. JavaScript"
   ]
  },
  {
   "cell_type": "markdown",
   "id": "add890b5-d791-4c32-ae0c-6ac5af600e28",
   "metadata": {},
   "source": [
    "Some of the commonly used libraries used by Data Scientists include:"
   ]
  },
  {
   "cell_type": "markdown",
   "id": "160c263c-0e07-4983-927d-3fd37fd2283b",
   "metadata": {},
   "source": [
    "1. TensorFlow.\n",
    "2. NumPy.\n",
    "3. SciPy.\n",
    "4. Pandas.\n",
    "5. Matplotlib.\n",
    "6. Keras.\n",
    "7. SciKit-Learn.\n",
    "8. PyTorch.\n",
    "9. Scrapy.\n",
    "10. BeautifulSoup.\n",
    "11. LightGBM.\n",
    "12. ELI5.\n",
    "13. Theano.\n",
    "14. NuPIC.\n",
    "15. Ramp.\n",
    "16. Pipenv.\n",
    "17. Bob.\n",
    "18. PyBrain.\n",
    "19. Caffe2.\n",
    "20. Chainer."
   ]
  },
  {
   "cell_type": "markdown",
   "id": "9a72cfb5-6373-4410-92b8-5e843a205e78",
   "metadata": {},
   "source": [
    "### Data Science Tools"
   ]
  },
  {
   "cell_type": "code",
   "execution_count": 3,
   "id": "60bbb358-311d-49bd-9f09-6dd2feebc437",
   "metadata": {
    "tags": []
   },
   "outputs": [
    {
     "name": "stdout",
     "output_type": "stream",
     "text": [
      "              Tools\n",
      "0  Jupyter Notebook\n",
      "1            Python\n",
      "2           Tableau\n",
      "3        TensorFlow\n",
      "4               SAS\n",
      "5      Scikit-learn\n"
     ]
    }
   ],
   "source": [
    "    import pandas as pd \n",
    "     \n",
    "    # Create a table of data science tools  \n",
    "    data = {'Tools': ['Jupyter Notebook', 'Python', 'Tableau', 'TensorFlow','SAS','Scikit-learn']} \n",
    "     \n",
    "    # Create a DataFrame from the table \n",
    "    df = pd.DataFrame(data) \n",
    "     \n",
    "    # Print the DataFrame \n",
    "    print(df) "
   ]
  },
  {
   "cell_type": "code",
   "execution_count": 5,
   "id": "47337b8a-fac8-42ef-b030-14c6a9f52238",
   "metadata": {},
   "outputs": [
    {
     "name": "stdin",
     "output_type": "stream",
     "text": [
      " 7\n",
      " 9\n"
     ]
    },
    {
     "name": "stdout",
     "output_type": "stream",
     "text": [
      "16\n"
     ]
    }
   ],
   "source": [
    "# Arithmetic operations\n",
    "x=input()\n",
    "y=input()\n",
    "code = int(x) + int(y)\n",
    "print(code)\n",
    "# Result: x+y"
   ]
  },
  {
   "cell_type": "code",
   "execution_count": 6,
   "id": "89bc391b-e906-4ba8-8f4c-ec8077f1b50b",
   "metadata": {
    "tags": []
   },
   "outputs": [
    {
     "data": {
      "text/plain": [
       "30"
      ]
     },
     "execution_count": 6,
     "metadata": {},
     "output_type": "execute_result"
    }
   ],
   "source": [
    "code1 = compile(\"(12 + 3) * 2\", \"<string>\", \"eval\")\n",
    "eval(code1)\n",
    "# Result: 30"
   ]
  },
  {
   "cell_type": "code",
   "execution_count": 8,
   "id": "fd2b30e0-4c3e-4b72-96b8-4cc717b854e1",
   "metadata": {
    "tags": []
   },
   "outputs": [
    {
     "data": {
      "text/plain": [
       "18555.031610264716"
      ]
     },
     "execution_count": 8,
     "metadata": {},
     "output_type": "execute_result"
    }
   ],
   "source": [
    "import math\n",
    "# Volume of a sphere\n",
    "code2 = compile(\"7 / 4 * math.pi * math.pow(15, 3)\", \"<string>\", \"eval\")\n",
    "eval(code2)\n",
    "# Result: 18555.031610264716"
   ]
  },
  {
   "cell_type": "code",
   "execution_count": 10,
   "id": "7b33d245-1c28-4cd5-abc2-bb34b5224d77",
   "metadata": {
    "tags": []
   },
   "outputs": [
    {
     "name": "stdin",
     "output_type": "stream",
     "text": [
      " 6\n",
      " 8\n",
      " 3\n"
     ]
    },
    {
     "name": "stdout",
     "output_type": "stream",
     "text": [
      "42\n"
     ]
    }
   ],
   "source": [
    "# multiply and add numbers\n",
    "x=input()\n",
    "y=input()\n",
    "z=input()\n",
    "r= (int(x)+int(y)) *int(z)\n",
    "print(r)"
   ]
  },
  {
   "cell_type": "markdown",
   "id": "87fa58d1-5c34-448e-9dcb-aaff51062530",
   "metadata": {
    "tags": []
   },
   "source": [
    "This will convert X minutes to hours by diving by 60"
   ]
  },
  {
   "cell_type": "code",
   "execution_count": 13,
   "id": "ca2962b7-c63b-43d0-84d9-ca807a140e60",
   "metadata": {
    "tags": []
   },
   "outputs": [
    {
     "name": "stdin",
     "output_type": "stream",
     "text": [
      " 1208\n"
     ]
    },
    {
     "name": "stdout",
     "output_type": "stream",
     "text": [
      "0 days, 20.133333333333333 hours, 0 mins. \n"
     ]
    }
   ],
   "source": [
    "days = 0\n",
    "hours = 0\n",
    "mins = 0\n",
    "x=input()\n",
    "time = int(x)\n",
    "#days = time / 1440\n",
    "leftover_minutes = time % 1440\n",
    "hours = leftover_minutes / 60\n",
    "#mins = time - (days*1440) - (hours*60)\n",
    "print(str(days) + \" days, \" + str(hours) + \" hours, \" + str(mins) +  \" mins. \")\n",
    "\n"
   ]
  },
  {
   "cell_type": "code",
   "execution_count": null,
   "id": "4ad3718e-aa9a-437e-909a-436965882e0c",
   "metadata": {},
   "outputs": [],
   "source": []
  }
 ],
 "metadata": {
  "kernelspec": {
   "display_name": "Python",
   "language": "python",
   "name": "conda-env-python-py"
  },
  "language_info": {
   "codemirror_mode": {
    "name": "ipython",
    "version": 3
   },
   "file_extension": ".py",
   "mimetype": "text/x-python",
   "name": "python",
   "nbconvert_exporter": "python",
   "pygments_lexer": "ipython3",
   "version": "3.7.12"
  }
 },
 "nbformat": 4,
 "nbformat_minor": 5
}
